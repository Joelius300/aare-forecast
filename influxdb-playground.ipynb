{
 "cells": [
  {
   "cell_type": "code",
   "execution_count": null,
   "id": "0",
   "metadata": {},
   "outputs": [],
   "source": [
    "import pandas as pd\n",
    "from influxdb_client import InfluxDBClient"
   ]
  },
  {
   "cell_type": "code",
   "execution_count": null,
   "id": "1",
   "metadata": {},
   "outputs": [],
   "source": [
    "client = InfluxDBClient(url=\"https://influx.konzept.space/\",\n",
    "                        token=\"0yLbh-D7RMe1sX1iIudFel8CcqCI8sVfuRTaliUp56MgE6kub8-nSd05_EJ4zTTKt0lUzw8zcO73zL9QhC3jtA==\",\n",
    "                        org=\"api.existenz.ch\",\n",
    "                        debug=False)"
   ]
  },
  {
   "cell_type": "markdown",
   "id": "2",
   "metadata": {},
   "source": [
    "Fetch hourly mean for flow and temperature for Thun (id 2030) and Bern, Schönau (id 2135) of the last few days."
   ]
  },
  {
   "cell_type": "code",
   "execution_count": null,
   "id": "3",
   "metadata": {},
   "outputs": [],
   "source": [
    "df = client.query_api().query_data_frame(\n",
    "    \"\"\"\n",
    "from(bucket: \"existenzApi\")\n",
    "  |> range(start: -5d)\n",
    "  |> filter(fn: (r) => r[\"_measurement\"] == \"hydro\")\n",
    "  |> filter(fn: (r) => r[\"_field\"] == \"temperature\" or r[\"_field\"] == \"flow\")\n",
    "  |> filter(fn: (r) => r[\"loc\"] == \"2135\" or r[\"loc\"] == \"2030\")\n",
    "  |> aggregateWindow(every: 1h, fn: mean, createEmpty: false)\n",
    "  |> pivot(rowKey: [\"_time\"], columnKey: [\"_field\"], valueColumn: \"_value\")\n",
    "  |> drop(columns: [\"_start\", \"result\", \"_stop\", \"table\", \"_measurement\"])\n",
    "    \"\"\"\n",
    ")\n",
    "\n",
    "df = df[['_time', 'loc', 'flow', 'temperature']]\n",
    "df"
   ]
  },
  {
   "cell_type": "code",
   "execution_count": null,
   "id": "4",
   "metadata": {},
   "outputs": [],
   "source": [
    "df.dtypes"
   ]
  },
  {
   "cell_type": "code",
   "execution_count": null,
   "id": "5",
   "metadata": {},
   "outputs": [],
   "source": [
    "df.pivot(index='_time', columns='loc', values='flow').plot()"
   ]
  },
  {
   "cell_type": "code",
   "execution_count": null,
   "id": "6",
   "metadata": {},
   "outputs": [],
   "source": [
    "df.pivot(index='_time', columns='loc', values='temperature').plot()"
   ]
  },
  {
   "cell_type": "code",
   "execution_count": null,
   "id": "7",
   "metadata": {},
   "outputs": [],
   "source": []
  }
 ],
 "metadata": {
  "kernelspec": {
   "display_name": "aare-forecast",
   "language": "python",
   "name": "aare-forecast"
  },
  "language_info": {
   "codemirror_mode": {
    "name": "ipython",
    "version": 2
   },
   "file_extension": ".py",
   "mimetype": "text/x-python",
   "name": "python",
   "nbconvert_exporter": "python",
   "pygments_lexer": "ipython2",
   "version": "2.7.6"
  }
 },
 "nbformat": 4,
 "nbformat_minor": 5
}
