{
 "cells": [
  {
   "cell_type": "code",
   "execution_count": null,
   "id": "0",
   "metadata": {},
   "outputs": [],
   "source": [
    "import logging\n",
    "from logging import DEBUG\n",
    "\n",
    "import pandas as pd\n",
    "from influxdb_client import InfluxDBClient"
   ]
  },
  {
   "cell_type": "code",
   "execution_count": null,
   "id": "1",
   "metadata": {},
   "outputs": [],
   "source": [
    "%load_ext autoreload\n",
    "%autoreload 2"
   ]
  },
  {
   "cell_type": "code",
   "execution_count": null,
   "id": "2",
   "metadata": {},
   "outputs": [],
   "source": [
    "client = InfluxDBClient(url=\"https://influx.konzept.space/\",\n",
    "                        # this is a public readonly token, so while not best practice, there's no danger in hard-coding it here :)\n",
    "                        token=\"0yLbh-D7RMe1sX1iIudFel8CcqCI8sVfuRTaliUp56MgE6kub8-nSd05_EJ4zTTKt0lUzw8zcO73zL9QhC3jtA==\",\n",
    "                        org=\"api.existenz.ch\",\n",
    "                        debug=False,\n",
    "                        timeout=60_000)"
   ]
  },
  {
   "cell_type": "markdown",
   "id": "3",
   "metadata": {},
   "source": [
    "Fetch hourly mean for discharge (rate of flow) and temperature for Thun (id 2030) and Bern, Schönau (id 2135) of the last few days."
   ]
  },
  {
   "cell_type": "code",
   "execution_count": null,
   "id": "4",
   "metadata": {},
   "outputs": [],
   "source": [
    "df = client.query_api().query_data_frame(\n",
    "    \"\"\"\n",
    "from(bucket: \"existenzApi\")\n",
    "  |> range(start: -5d)\n",
    "  |> filter(fn: (r) => r[\"_measurement\"] == \"hydro\")\n",
    "  |> filter(fn: (r) => r[\"_field\"] == \"temperature\" or r[\"_field\"] == \"flow\")\n",
    "  |> filter(fn: (r) => r[\"loc\"] == \"2135\" or r[\"loc\"] == \"2030\")\n",
    "  |> aggregateWindow(every: 1h, fn: mean, createEmpty: false)\n",
    "  |> pivot(rowKey: [\"_time\"], columnKey: [\"_field\"], valueColumn: \"_value\")\n",
    "  |> drop(columns: [\"_start\", \"result\", \"_stop\", \"table\", \"_measurement\"])\n",
    "    \"\"\"\n",
    ")\n",
    "\n",
    "df = df[['_time', 'loc', 'flow', 'temperature']]\n",
    "df"
   ]
  },
  {
   "cell_type": "code",
   "execution_count": null,
   "id": "5",
   "metadata": {},
   "outputs": [],
   "source": [
    "df = client.query_api().query_data_frame(\n",
    "    \"\"\"\n",
    "from(bucket: \"existenzApi\")\n",
    "  |> range(start: -5d)\n",
    "  |> filter(fn: (r) => r[\"_measurement\"] == \"hydro\")\n",
    "  |> filter(fn: (r) => r[\"_field\"] == \"temperature\")\n",
    "  |> filter(fn: (r) => r[\"loc\"] == \"2135\" or r[\"loc\"] == \"2030\")\n",
    "  |> aggregateWindow(every: 1h, fn: mean, createEmpty: false)\n",
    "  |> pivot(rowKey: [\"_time\"], columnKey: [\"_field\"], valueColumn: \"_value\")\n",
    "  |> drop(columns: [\"_start\", \"result\", \"_stop\", \"table\", \"_measurement\"])\n",
    "    \"\"\"\n",
    ")\n",
    "\n",
    "df = df[['_time', 'loc', 'temperature']]\n",
    "df"
   ]
  },
  {
   "cell_type": "code",
   "execution_count": null,
   "id": "6",
   "metadata": {},
   "outputs": [],
   "source": [
    "import logging\n",
    "from logging import DEBUG\n",
    "logging.basicConfig(level=DEBUG)"
   ]
  },
  {
   "cell_type": "code",
   "execution_count": null,
   "id": "7",
   "metadata": {},
   "outputs": [],
   "source": [
    "from aare.constants import LOC_BERN, LOC_THUN\n",
    "from aare.remote_influx_store import RemoteExistenzStore\n",
    "\n",
    "store = RemoteExistenzStore()"
   ]
  },
  {
   "cell_type": "code",
   "execution_count": null,
   "id": "8",
   "metadata": {},
   "outputs": [],
   "source": [
    "store.query_hydro(\"2020-01-01T00:00:00Z\", LOC_BERN)"
   ]
  },
  {
   "cell_type": "code",
   "execution_count": null,
   "id": "9",
   "metadata": {},
   "outputs": [],
   "source": [
    "df.dtypes"
   ]
  },
  {
   "cell_type": "code",
   "execution_count": null,
   "id": "10",
   "metadata": {},
   "outputs": [],
   "source": [
    "df.pivot(index='_time', columns='loc', values='flow').plot()"
   ]
  },
  {
   "cell_type": "code",
   "execution_count": null,
   "id": "11",
   "metadata": {},
   "outputs": [],
   "source": [
    "df.pivot(index='_time', columns='loc', values='temperature').plot()"
   ]
  },
  {
   "cell_type": "code",
   "execution_count": null,
   "id": "12",
   "metadata": {},
   "outputs": [],
   "source": [
    "client.query_api().query_data_frame(\n",
    "    \"\"\"\n",
    "from(bucket: \"existenzApi\")\n",
    "  |> range(start: -10000d)\n",
    "  |> filter(fn: (r) => r[\"_measurement\"] == \"hydro\")\n",
    "  |> filter(fn: (r) => r[\"_field\"] == \"temperature\" or r[\"_field\"] == \"flow\")\n",
    "  |> filter(fn: (r) => r[\"loc\"] == \"2135\" or r[\"loc\"] == \"2030\")\n",
    "  |> first()\n",
    "     |> pivot(rowKey:[\"_time\"], columnKey: [\"_field\"], valueColumn: \"_value\")\n",
    "    \"\"\"\n",
    ")"
   ]
  },
  {
   "cell_type": "markdown",
   "id": "13",
   "metadata": {},
   "source": [
    "\n",
    "WARNING: long-running query\n",
    "\n",
    "Check how many (aggregated) data points there are for the two most interesting locations on the entire dataset.\n",
    "Without data loss, each year would have 8760 data points (365 days * 24 hours)."
   ]
  },
  {
   "cell_type": "code",
   "execution_count": null,
   "id": "14",
   "metadata": {},
   "outputs": [],
   "source": [
    "n_measurements_per_year = client.query_api().query_data_frame(\n",
    "    \"\"\"\n",
    "import \"date\"\n",
    "\n",
    "from(bucket: \"existenzApi\")\n",
    "  |> range(start: -25y)\n",
    "  |> filter(fn: (r) => r[\"_measurement\"] == \"hydro\")\n",
    "  |> filter(fn: (r) => r[\"_field\"] == \"temperature\" or r[\"_field\"] == \"flow\")\n",
    "  |> filter(fn: (r) => r[\"loc\"] == \"2135\" or r[\"loc\"] == \"2030\")\n",
    "  |> aggregateWindow(every: 1h, fn: first, createEmpty: false)\n",
    "  |> map(fn: (r) => ({ r with year: date.truncate(t: r._time, unit: 1y) }))\n",
    "  |> group(columns: [\"year\", \"_field\", \"loc\"])\n",
    "  |> count()\n",
    "  // |> pivot(rowKey:[\"year\"], columnKey: [\"_field\"], valueColumn: \"_value\")\n",
    "    \"\"\"\n",
    ")\n",
    "\n",
    "n_measurements_per_year"
   ]
  },
  {
   "cell_type": "code",
   "execution_count": null,
   "id": "15",
   "metadata": {},
   "outputs": [],
   "source": []
  }
 ],
 "metadata": {
  "kernelspec": {
   "display_name": "aare-forecast",
   "language": "python",
   "name": "aare-forecast"
  },
  "language_info": {
   "codemirror_mode": {
    "name": "ipython",
    "version": 2
   },
   "file_extension": ".py",
   "mimetype": "text/x-python",
   "name": "python",
   "nbconvert_exporter": "python",
   "pygments_lexer": "ipython2",
   "version": "2.7.6"
  }
 },
 "nbformat": 4,
 "nbformat_minor": 5
}
